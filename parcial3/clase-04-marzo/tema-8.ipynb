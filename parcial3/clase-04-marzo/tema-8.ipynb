{
 "cells": [
  {
   "cell_type": "markdown",
   "metadata": {},
   "source": [
    "### Entradas y salidas de datos"
   ]
  },
  {
   "cell_type": "code",
   "execution_count": null,
   "metadata": {},
   "outputs": [],
   "source": [
    "archivo = open(\"hola.txt\", \"r\")"
   ]
  },
  {
   "cell_type": "code",
   "execution_count": null,
   "metadata": {},
   "outputs": [],
   "source": [
    "contenido = archivo.read()\n",
    "print(contenido)"
   ]
  },
  {
   "cell_type": "code",
   "execution_count": null,
   "metadata": {},
   "outputs": [],
   "source": [
    "archivo.seek(0)"
   ]
  },
  {
   "cell_type": "code",
   "execution_count": null,
   "metadata": {},
   "outputs": [],
   "source": [
    "linea = archivo.readline()\n",
    "print(linea)"
   ]
  },
  {
   "cell_type": "code",
   "execution_count": null,
   "metadata": {},
   "outputs": [],
   "source": [
    "lineas = archivo.readlines()\n",
    "print(lineas)"
   ]
  },
  {
   "cell_type": "code",
   "execution_count": null,
   "metadata": {},
   "outputs": [],
   "source": [
    "for linea in lineas:\n",
    "    print(linea)"
   ]
  },
  {
   "cell_type": "code",
   "execution_count": null,
   "metadata": {},
   "outputs": [],
   "source": [
    "archivo = open(\"hola.txt\", \"w\")\n",
    "archivo.write(\"Esto sobre escribe el contenido\\n\")"
   ]
  },
  {
   "cell_type": "code",
   "execution_count": null,
   "metadata": {},
   "outputs": [],
   "source": [
    "archivo = open(\"hola.txt\", \"a\")\n",
    "archivo.write(\"Esto agrega contenido al final\\n\")"
   ]
  },
  {
   "cell_type": "code",
   "execution_count": null,
   "metadata": {},
   "outputs": [],
   "source": [
    "archivo=open(\"hola.txt\", \"r\")\n",
    "contenido = archivo.read()\n",
    "print(contenido)"
   ]
  },
  {
   "cell_type": "code",
   "execution_count": null,
   "metadata": {},
   "outputs": [],
   "source": [
    "tareas = [\"Sacar la basura\", \"Barrer\", \"Lavar los trastes\"]"
   ]
  },
  {
   "cell_type": "code",
   "execution_count": null,
   "metadata": {},
   "outputs": [],
   "source": [
    "archivo = open(\"tareas.txt\", \"w\")\n",
    "for tarea in tareas:\n",
    "    archivo.write(tarea + \"\\n\")"
   ]
  },
  {
   "cell_type": "code",
   "execution_count": null,
   "metadata": {},
   "outputs": [],
   "source": [
    "archivo= open(\"tareas.txt\", \"r\")\n",
    "contenido = archivo.read()\n",
    "print(contenido)"
   ]
  },
  {
   "cell_type": "markdown",
   "metadata": {},
   "source": [
    "#### Ejercicio Practico"
   ]
  },
  {
   "cell_type": "code",
   "execution_count": 36,
   "metadata": {},
   "outputs": [
    {
     "name": "stdout",
     "output_type": "stream",
     "text": [
      "jugar\n",
      "comer\n",
      "correr\n",
      "entregar mate\n",
      "\n"
     ]
    }
   ],
   "source": [
    "check = {\n",
    "    \"type\" : \"\"\n",
    "}\n",
    "\n",
    "def verificar(tarea):\n",
    "    try:\n",
    "        float(nueva_tarea)\n",
    "        return check.update({\"type\": \"numero\"})\n",
    "    except ValueError:\n",
    "        return check.update({\"type\": \"cadena\"})\n",
    "    \n",
    "\n",
    "\n",
    "while True:\n",
    "    nueva_tarea = input(\"¿Qué tarea deseas agregar? \")\n",
    "    verificar(nueva_tarea)\n",
    "    if (check[\"type\"] == \"cadena\"):\n",
    "        with open(\"tareas.txt\", \"a\") as archivo:\n",
    "            archivo.write(nueva_tarea + \"\\n\")\n",
    "    else:\n",
    "        archivo = open(\"tareas.txt\", \"r\")\n",
    "        contenido = archivo.read()\n",
    "        print(contenido)\n",
    "        break"
   ]
  }
 ],
 "metadata": {
  "kernelspec": {
   "display_name": "Python 3",
   "language": "python",
   "name": "python3"
  },
  "language_info": {
   "codemirror_mode": {
    "name": "ipython",
    "version": 3
   },
   "file_extension": ".py",
   "mimetype": "text/x-python",
   "name": "python",
   "nbconvert_exporter": "python",
   "pygments_lexer": "ipython3",
   "version": "3.12.3"
  }
 },
 "nbformat": 4,
 "nbformat_minor": 2
}
