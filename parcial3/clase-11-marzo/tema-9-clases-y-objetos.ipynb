{
 "cells": [
  {
   "cell_type": "markdown",
   "metadata": {},
   "source": [
    "### Tema 9 Clases y objetos"
   ]
  },
  {
   "cell_type": "code",
   "execution_count": null,
   "metadata": {},
   "outputs": [
    {
     "name": "stdout",
     "output_type": "stream",
     "text": [
      "Nombre:  Charmander\n",
      "Tipo:  Fuego\n",
      "Puntos de Salud:  39\n",
      "Ataque:  52\n",
      "Defensa:  43\n",
      "Velocidad:  65\n"
     ]
    }
   ],
   "source": [
    "class Pokemon:\n",
    "    nombre = \"\"\n",
    "    tipo = \"\"\n",
    "    ph = 0\n",
    "    ataque = 0\n",
    "    defensa = 0\n",
    "    velocidad = 0\n",
    "\n",
    "    def describir(self):\n",
    "        print(\"Nombre: \", self.nombre)\n",
    "        print(\"Tipo: \", self.tipo)\n",
    "        print(\"Puntos de Salud: \", self.ph)\n",
    "        print(\"Ataque: \", self.ataque)\n",
    "        print(\"Defensa: \", self.defensa)\n",
    "        print(\"Velocidad: \", self.velocidad)\n",
    "\n",
    "pokemon1 = Pokemon()\n",
    "pokemon1.nombre = \"Charmander\"\n",
    "pokemon1.tipo = \"Fuego\"\n",
    "pokemon1.ph = 39\n",
    "pokemon1.ataque = 52\n",
    "pokemon1.defensa = 43\n",
    "pokemon1.velocidad = 65\n",
    "pokemon1.describir()"
   ]
  },
  {
   "cell_type": "code",
   "execution_count": null,
   "metadata": {},
   "outputs": [],
   "source": [
    "class Pokemones:\n",
    "    def __init__(self, nombre, tipo, ph, ataque, defensa, velocidad):\n",
    "        self.nombre = nombre\n",
    "        self.tipo = tipo\n",
    "        self.ph = ph\n",
    "        self.ataque = ataque\n",
    "        self.defensa = defensa\n",
    "        self.velocidad = velocidad\n",
    "\n",
    "    def describir(self):\n",
    "        print(f\"Nombre: {self.nombre}\") \n",
    "        print(f\"Tipo: {self.tipo}\")\n",
    "        print(f\"Puntos de Salud: {self.ph}\")\n",
    "        print(f\"Ataque: {self.ataque}\")\n",
    "        print(f\"Defensa: {self.defensa}\")\n",
    "        print(f\"Velocidad: {self.velocidad}\")  \n",
    "\n",
    "    def ataque_agua(self):\n",
    "        print(f\"{self.nombre} ha usado ataque de agua\")\n",
    "\n",
    "    def ataque_fuego(self):\n",
    "        print(f\"{self.nombre} ha usado ataque de fuego\")   \n",
    "\n",
    "    def ataque_trueno(self):\n",
    "        print(f\"{self.nombre} ha usado ataque de trueno\")          "
   ]
  },
  {
   "cell_type": "code",
   "execution_count": 5,
   "metadata": {},
   "outputs": [
    {
     "name": "stdout",
     "output_type": "stream",
     "text": [
      "Nombre: Bulbasaur\n",
      "Tipo: Planta\n",
      "Puntos de Salud: 45\n",
      "Ataque: 49\n",
      "Defensa: 49\n",
      "Velocidad: 45\n",
      "Bulbasaur ha usado ataque de agua\n",
      "Bulbasaur ha usado ataque de fuego\n",
      "Nombre: Pikachu\n",
      "Tipo: Electrico\n",
      "Puntos de Salud: 35\n",
      "Ataque: 55\n",
      "Defensa: 40\n",
      "Velocidad: 90\n"
     ]
    }
   ],
   "source": [
    "pokemon2 = Pokemones(\"Bulbasaur\", \"Planta\", 45, 49, 49, 45)\n",
    "pokemon2.describir()\n",
    "pokemon2.ataque_agua()\n",
    "pokemon2.ataque_fuego()\n",
    "\n",
    "pokemon3 = Pokemones(\"Pikachu\", \"Electrico\", 35, 55, 40, 90)\n",
    "pokemon3.describir()"
   ]
  }
 ],
 "metadata": {
  "kernelspec": {
   "display_name": "Python 3",
   "language": "python",
   "name": "python3"
  },
  "language_info": {
   "codemirror_mode": {
    "name": "ipython",
    "version": 3
   },
   "file_extension": ".py",
   "mimetype": "text/x-python",
   "name": "python",
   "nbconvert_exporter": "python",
   "pygments_lexer": "ipython3",
   "version": "3.12.3"
  }
 },
 "nbformat": 4,
 "nbformat_minor": 2
}
