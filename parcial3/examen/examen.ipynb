{
 "cells": [
  {
   "cell_type": "markdown",
   "metadata": {},
   "source": [
    "### Examen"
   ]
  },
  {
   "cell_type": "code",
   "execution_count": 1,
   "metadata": {},
   "outputs": [],
   "source": [
    "import os\n",
    "\n",
    "class Spotify:\n",
    "    def __init__(self, nombre_cancion, artista, album, anio_de_lanzamiento, duracion, genero, productor, disquera):\n",
    "        self.nombre_cancion = nombre_cancion\n",
    "        self.artista = artista\n",
    "        self.album = album\n",
    "        self.anio_de_lanzamiento = anio_de_lanzamiento\n",
    "        self.duracion = duracion\n",
    "        self.genero = genero\n",
    "        self.productor = productor\n",
    "        self.disquera = disquera\n",
    "\n",
    "    def describir(self):\n",
    "        print(f\"Nombre de la canción: {self.nombre_cancion}\")\n",
    "        print(f\"Artista: {self.artista}\")\n",
    "        print(f\"Album: {self.album}\")\n",
    "        print(f\"Año de lanzamiento: {self.anio_de_lanzamiento}\")\n",
    "        print(f\"Duración: {self.duracion}\")\n",
    "        print(f\"Genero: {self.genero}\")\n",
    "        print(f\"Productor: {self.productor}\")\n",
    "        print(f\"Disquera: {self.disquera}\")\n",
    "\n",
    "    def crear_archivo(self):\n",
    "        \"\"\"Crea un archivo de texto con la información de la canción en la carpeta /canciones\"\"\"\n",
    "        nombre_archivo = self.nombre_cancion.replace(\" \", \"_\").lower() + \".txt\"\n",
    "        ruta_carpeta = \"canciones\"\n",
    "\n",
    "        # Crear la carpeta si no existe\n",
    "        os.makedirs(ruta_carpeta, exist_ok=True)\n",
    "\n",
    "        ruta_completa = os.path.join(ruta_carpeta, nombre_archivo)\n",
    "\n",
    "        with open(ruta_completa, \"w\", encoding=\"utf-8\") as archivo:\n",
    "            archivo.write(f\"Nombre de la canción: {self.nombre_cancion}\\n\"\n",
    "                          f\"Artista: {self.artista}\\n\"\n",
    "                          f\"Album: {self.album}\\n\"\n",
    "                          f\"Año de lanzamiento: {self.anio_de_lanzamiento}\\n\"\n",
    "                          f\"Duración: {self.duracion}\\n\"\n",
    "                          f\"Genero: {self.genero}\\n\"\n",
    "                          f\"Productor: {self.productor}\\n\"\n",
    "                          f\"Disquera: {self.disquera}\\n\")\n",
    "        \n",
    "        return f\"Archivo '{nombre_archivo}' creado correctamente en '{ruta_carpeta}'\"\n",
    "\n",
    "    def crear_genero(self):\n",
    "        \"\"\"Crea un archivo de texto por género y agrega la canción a ese archivo\"\"\"\n",
    "        nombre_genero = self.genero.lower() + \".txt\"\n",
    "        ruta_carpeta = \"genero\"\n",
    "\n",
    "        # Crear la carpeta si no existe\n",
    "        os.makedirs(ruta_carpeta, exist_ok=True)\n",
    "\n",
    "        ruta_completa = os.path.join(ruta_carpeta, nombre_genero)\n",
    "\n",
    "        with open(ruta_completa, \"a\", encoding=\"utf-8\") as archivo:\n",
    "            archivo.write(\"-----------------------------------------------------\\n\")\n",
    "            archivo.write(f\"Nombre de la canción: {self.nombre_cancion}\\n\")\n",
    "            archivo.write(\"-----------------------------------------------------\\n\")\n",
    "\n",
    "        return f\"Género '{self.genero}' actualizado correctamente en '{ruta_carpeta}'\"\n"
   ]
  },
  {
   "cell_type": "code",
   "execution_count": null,
   "metadata": {},
   "outputs": [],
   "source": [
    "\n",
    "# Make sure to run the cell containing the Spotify class definition first\n",
    "\n",
    "nombre_cancion = input(\"Nombre de la canción: \")\n",
    "artista = input(\"Artista: \")\n",
    "album = input(\"Album: \")\n",
    "anio_de_lanzamiento = input(\"Año de lanzamiento: \")\n",
    "duracion = input(\"Duración: \")\n",
    "genero = input(\"Genero: \")\n",
    "productor = input(\"Productor: \")\n",
    "disquera = input(\"Disquera: \")\n",
    "\n",
    "# Create a new Spotify object with the input values\n",
    "cancion = Spotify(nombre_cancion, artista, album, anio_de_lanzamiento, duracion, genero, productor, disquera)\n",
    "cancion.describir()\n"
   ]
  },
  {
   "cell_type": "code",
   "execution_count": null,
   "metadata": {},
   "outputs": [],
   "source": [
    "# Crear un archivo de texto con la información de la canción\n",
    "# El archivo está en la carpeta de /canciones\n",
    "\n",
    "# El nombre del archvo será el nombre de la canción en minúsculas y con guiones bajos en lugar de espacios\n",
    "\n",
    "def crear_archivo(cancion):\n",
    "\n",
    "    nombre_archivo = cancion.nombre_cancion.replace(\" \", \"_\").lower()\n",
    "\n",
    "    archivo = open(f\"canciones/{nombre_archivo}.txt\", \"w\", encoding=\"utf-8\")\n",
    "    archivo.write(f\"Nombre de la canción: {cancion.nombre_cancion}\\n\"\n",
    "                f\"Artista: {cancion.artista}\\n\"\n",
    "                f\"Album: {cancion.album}\\n\"\n",
    "                f\"Año de lanzamiento: {cancion.anio_de_lanzamiento}\\n\"\n",
    "                f\"Duración: {cancion.duracion}\\n\"\n",
    "                f\"Genero: {cancion.genero}\\n\"\n",
    "                f\"Productor: {cancion.productor}\\n\"\n",
    "                f\"Disquera: {cancion.disquera}\\n\"\n",
    "                )\n",
    "                \n",
    "    archivo.close()\n",
    "    return \"Archivo: \" + nombre_archivo + \" creado correctamente\""
   ]
  },
  {
   "cell_type": "code",
   "execution_count": null,
   "metadata": {},
   "outputs": [],
   "source": [
    "# Asignar una categoría a la canción, crear un archivo de texto con la información de la canción\n",
    "\n",
    "def crear_genero(archivo):\n",
    "    genero = cancion.genero.lower()\n",
    "\n",
    "    with open(f\"genero/{genero}.txt\", \"a\", encoding=\"utf-8\") as archivo:\n",
    "        f\"-----------------------------------------------------\\n\"\n",
    "        archivo.write(f\"Nombre de la canción: {cancion.nombre_cancion}\\n\"\n",
    "        f\"-----------------------------------------------------\\n\"\n",
    "        )\n",
    "\n",
    "    return \"Genero creado correctamente\"    \n"
   ]
  },
  {
   "cell_type": "code",
   "execution_count": 2,
   "metadata": {},
   "outputs": [
    {
     "name": "stdout",
     "output_type": "stream",
     "text": [
      "Nombre de la canción: Welcome to the jungle\n",
      "Artista: Guns N' Roses\n",
      "Album: Appetite for Destruction\n",
      "Año de lanzamiento: 1987\n",
      "Duración: 4:31\n",
      "Genero: Rock\n",
      "Productor: Mike Clink\n",
      "Disquera: Geffen Records\n"
     ]
    },
    {
     "data": {
      "text/plain": [
       "\"Género 'Rock' actualizado correctamente en 'genero'\""
      ]
     },
     "execution_count": 2,
     "metadata": {},
     "output_type": "execute_result"
    }
   ],
   "source": [
    "# Instanciar un objeto de la clase Spotify\n",
    "# Es decir crear un objeto de la clase Spotify\n",
    "\n",
    "cancion = Spotify(\"Welcome to the jungle\", \"Guns N' Roses\", \"Appetite for Destruction\", 1987, \"4:31\", \"Rock\", \"Mike Clink\", \"Geffen Records\")\n",
    "cancion.describir()\n",
    "cancion.crear_archivo()\n",
    "cancion.crear_genero()"
   ]
  }
 ],
 "metadata": {
  "kernelspec": {
   "display_name": "Python 3",
   "language": "python",
   "name": "python3"
  },
  "language_info": {
   "codemirror_mode": {
    "name": "ipython",
    "version": 3
   },
   "file_extension": ".py",
   "mimetype": "text/x-python",
   "name": "python",
   "nbconvert_exporter": "python",
   "pygments_lexer": "ipython3",
   "version": "3.12.3"
  }
 },
 "nbformat": 4,
 "nbformat_minor": 2
}
