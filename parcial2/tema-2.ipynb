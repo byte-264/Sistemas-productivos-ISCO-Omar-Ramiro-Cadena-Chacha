{
 "cells": [
  {
   "cell_type": "markdown",
   "metadata": {},
   "source": [
    "## OMAR RAMIRO CADENA CHACHA"
   ]
  },
  {
   "cell_type": "markdown",
   "metadata": {},
   "source": [
    "### Variable y tipos de datos"
   ]
  },
  {
   "cell_type": "code",
   "execution_count": null,
   "metadata": {},
   "outputs": [],
   "source": [
    "nombre = \"juan\"\n",
    "edad = 20\n",
    "altura = 1.80\n",
    "es_estudiante = True"
   ]
  },
  {
   "cell_type": "markdown",
   "metadata": {},
   "source": [
    "### Operadores"
   ]
  },
  {
   "cell_type": "markdown",
   "metadata": {},
   "source": [
    "### a) Aritméticos: se usan para operaciones matemáticas"
   ]
  },
  {
   "cell_type": "code",
   "execution_count": null,
   "metadata": {},
   "outputs": [],
   "source": [
    "a = 10 \n",
    "b = 3\n",
    "\n",
    "suma = a + b\n",
    "resta = a - b\n",
    "multiplicacion = a * b\n",
    "division = a / b\n",
    "division_entera = a // b\n",
    "modulo = a % b\n",
    "exponente = a ** b"
   ]
  },
  {
   "cell_type": "markdown",
   "metadata": {},
   "source": [
    "### c) Lógicos: se usan para combinar condiciones"
   ]
  },
  {
   "cell_type": "code",
   "execution_count": null,
   "metadata": {},
   "outputs": [],
   "source": [
    "x = False\n",
    "y = True\n",
    "\n",
    "resultado_and = x and y\n",
    "resultado_or = x or y\n",
    "resultado_not = not x"
   ]
  },
  {
   "cell_type": "markdown",
   "metadata": {},
   "source": [
    "### Entrada y salida estándar"
   ]
  },
  {
   "cell_type": "markdown",
   "metadata": {},
   "source": [
    "#### a) Entrada (`input()`)"
   ]
  },
  {
   "cell_type": "code",
   "execution_count": null,
   "metadata": {},
   "outputs": [],
   "source": [
    "nombre = input(\"Hola, ¿cuál es tu nombre?: \")\n",
    "print(f\"hola {nombre}\")"
   ]
  },
  {
   "cell_type": "markdown",
   "metadata": {},
   "source": [
    "#### Ejercicio 1"
   ]
  },
  {
   "cell_type": "code",
   "execution_count": 1,
   "metadata": {},
   "outputs": [
    {
     "name": "stdout",
     "output_type": "stream",
     "text": [
      "Hola pepe, tienes 25 años y vives en cancun\n"
     ]
    }
   ],
   "source": [
    "nombre = input(\"¿Cuál es tu nombre?: \")\n",
    "edad = input(\"¿Cuál es tu edad?: \")\n",
    "ciudad = input(\"¿En qué ciudad vives?: \")\n",
    "\n",
    "print(f\"Hola {nombre}, tienes {edad} años y vives en {ciudad}\")"
   ]
  },
  {
   "cell_type": "markdown",
   "metadata": {},
   "source": [
    "#### Ejercicio 2"
   ]
  },
  {
   "cell_type": "code",
   "execution_count": 2,
   "metadata": {},
   "outputs": [
    {
     "name": "stdout",
     "output_type": "stream",
     "text": [
      "La suma es: 10.0\n",
      "La resta es: 0.0\n",
      "La multiplicación es: 25.0\n",
      "La división es: 1.0\n"
     ]
    }
   ],
   "source": [
    "num1 = float(input(\"Ingresa un número: \"))\n",
    "num2 = float(input(\"Ingresa otro número: \"))\n",
    "\n",
    "print(f\"La suma es: {num1 + num2}\")\n",
    "print(f\"La resta es: {num1 - num2}\")\n",
    "print(f\"La multiplicación es: {num1 * num2}\")\n",
    "print(f\"La división es: {num1 / num2}\")"
   ]
  },
  {
   "cell_type": "markdown",
   "metadata": {},
   "source": [
    "#### **1. Condicionales: `if`, `elif`, `else`**\n",
    "\n",
    "Permiten ejecutar bloques de código basados en condiciones específicas.\n",
    "\n",
    "**Ejemplo:**"
   ]
  },
  {
   "cell_type": "code",
   "execution_count": null,
   "metadata": {},
   "outputs": [],
   "source": [
    "edad = 18\n",
    "\n",
    "if edad < 18:\n",
    "    print(\"Eres menor de edad.\")\n",
    "elif edad == 18:\n",
    "    print(\"Tienes justo 18 años.\")\n",
    "else:\n",
    "    print(\"Eres mayor de edad.\")"
   ]
  },
  {
   "cell_type": "markdown",
   "metadata": {},
   "source": [
    "#### **2. Bucles**\n",
    "\n",
    "Los bucles permiten ejecutar un bloque de código repetidamente.\n",
    "\n",
    "**a) Bucle `for`:** \n",
    "\n",
    "Se utiliza para iterar sobre una secuencia (lista, tupla, cadena, etc.).\n",
    "\n",
    "**Ejemplo:**"
   ]
  },
  {
   "cell_type": "code",
   "execution_count": null,
   "metadata": {},
   "outputs": [],
   "source": [
    "frutas = [\"manzana\", \"banana\", \"cereza\"]\n",
    "\n",
    "for fruta in frutas:\n",
    "    print(fruta)"
   ]
  },
  {
   "cell_type": "markdown",
   "metadata": {},
   "source": [
    "**b) Bucle `while`:** \n",
    "\n",
    "Ejecuta un bloque de código mientras una condición sea verdadera.\n",
    "\n",
    "**Ejemplo:**"
   ]
  },
  {
   "cell_type": "code",
   "execution_count": null,
   "metadata": {},
   "outputs": [],
   "source": [
    "numero = 1\n",
    "\n",
    "while numero <= 5:\n",
    "    print(numero)\n",
    "    numero += 1"
   ]
  },
  {
   "cell_type": "markdown",
   "metadata": {},
   "source": [
    "**Ejercicio práctico 1:** Programa que pide al usuario ingresar un número y muestra si es par o impar."
   ]
  },
  {
   "cell_type": "code",
   "execution_count": 4,
   "metadata": {},
   "outputs": [
    {
     "name": "stdout",
     "output_type": "stream",
     "text": [
      "El número es par.\n"
     ]
    }
   ],
   "source": [
    "numero = int(input(\"Introduce un número: \"))\n",
    "\n",
    "if numero % 2 == 0:\n",
    "    print(\"El número es par.\")\n",
    "else:\n",
    "    print(\"El número es impar.\")"
   ]
  },
  {
   "cell_type": "markdown",
   "metadata": {},
   "source": [
    "**Ejercicio práctico 2:** Programa que imprime los primeros 10 números de la serie Fibonacci."
   ]
  },
  {
   "cell_type": "code",
   "execution_count": 5,
   "metadata": {},
   "outputs": [
    {
     "name": "stdout",
     "output_type": "stream",
     "text": [
      "0\n",
      "1\n",
      "1\n",
      "2\n",
      "3\n",
      "5\n",
      "8\n",
      "13\n",
      "21\n",
      "34\n"
     ]
    }
   ],
   "source": [
    "a, b = 0, 1\n",
    "for i in range(10):\n",
    "    print(a)\n",
    "    a, b = b, a+b"
   ]
  },
  {
   "cell_type": "markdown",
   "metadata": {},
   "source": [
    "**Ejercicio práctico 3:** Programa que pide al usuario un número `n` y muestra la suma de todos los números del 1 al `n`."
   ]
  },
  {
   "cell_type": "code",
   "execution_count": 6,
   "metadata": {},
   "outputs": [
    {
     "name": "stdout",
     "output_type": "stream",
     "text": [
      "La suma de los números del 1 al 4 es: 10\n"
     ]
    }
   ],
   "source": [
    "n = int(input(\"Introduce un número: \"))\n",
    "suma = 0\n",
    "\n",
    "for i in range(1, n+1):\n",
    "    suma += i\n",
    "\n",
    "print(f\"La suma de los números del 1 al {n} es: {suma}\")"
   ]
  },
  {
   "cell_type": "markdown",
   "metadata": {},
   "source": [
    "#### **1. Definición y llamada a funciones**\n",
    "\n",
    "**a) Definir una función:**\n",
    "\n",
    "Usa la palabra clave `def` seguida del nombre de la función y paréntesis."
   ]
  },
  {
   "cell_type": "markdown",
   "metadata": {},
   "source": [
    "**Ejercicio práctico 1:** Crea una función que reciba una lista de números y retorne el mayor de ellos.\n"
   ]
  },
  {
   "cell_type": "code",
   "execution_count": 7,
   "metadata": {},
   "outputs": [
    {
     "name": "stdout",
     "output_type": "stream",
     "text": [
      "9\n"
     ]
    }
   ],
   "source": [
    "def numero_mayor(lista):\n",
    "    return max(lista)\n",
    "\n",
    "numeros = [8, 2, 0, 9, 3]\n",
    "print(numero_mayor(numeros))"
   ]
  },
  {
   "cell_type": "markdown",
   "metadata": {},
   "source": [
    "**Ejercicio práctico 2:** Crea una función que convierta grados Celsius a Fahrenheit."
   ]
  },
  {
   "cell_type": "code",
   "execution_count": 8,
   "metadata": {},
   "outputs": [
    {
     "name": "stdout",
     "output_type": "stream",
     "text": [
      "68.0\n"
     ]
    }
   ],
   "source": [
    "def convertir(celsius):\n",
    "    return (celsius * 9/5) + 32\n",
    "\n",
    "grad = 20\n",
    "print(convertir (grad))"
   ]
  },
  {
   "cell_type": "markdown",
   "metadata": {},
   "source": [
    "**Ejercicio práctico 3:** Usa una función lambda para calcular el área de un rectángulo."
   ]
  },
  {
   "cell_type": "code",
   "execution_count": 10,
   "metadata": {},
   "outputs": [
    {
     "name": "stdout",
     "output_type": "stream",
     "text": [
      "50\n"
     ]
    }
   ],
   "source": [
    "area_rectangulo = lambda largo, ancho: largo * ancho\n",
    "\n",
    "l = 10\n",
    "a = 5\n",
    "print(area_rectangulo(l, a))"
   ]
  },
  {
   "cell_type": "markdown",
   "metadata": {},
   "source": [
    "Las estructuras de datos en Python son colecciones que permiten organizar y almacenar múltiples elementos, facilitando su manipulación y consulta.\n",
    "\n",
    "#### **1. Listas**\n",
    "\n",
    "Son estructuras de datos ordenadas y modificables, que pueden contener múltiples valores, incluso de diferentes tipos."
   ]
  },
  {
   "cell_type": "markdown",
   "metadata": {},
   "source": [
    "**Ejercicio práctico 1:** Crea una lista con tus películas favoritas y muestra la tercera película en la lista."
   ]
  },
  {
   "cell_type": "code",
   "execution_count": 11,
   "metadata": {},
   "outputs": [
    {
     "name": "stdout",
     "output_type": "stream",
     "text": [
      "Star Wars II\n"
     ]
    }
   ],
   "source": [
    "peliculas = [\"Cars 2\", \"Spiderman\", \"Star Wars II\"]\n",
    "print(peliculas[2])"
   ]
  },
  {
   "cell_type": "markdown",
   "metadata": {},
   "source": [
    "**Ejercicio práctico 2:** Dado un diccionario que guarda las calificaciones de un estudiante, calcula el promedio.\n"
   ]
  },
  {
   "cell_type": "code",
   "execution_count": 12,
   "metadata": {},
   "outputs": [
    {
     "name": "stdout",
     "output_type": "stream",
     "text": [
      "Tu promedio es: 81.0\n"
     ]
    }
   ],
   "source": [
    "calif = {\n",
    "    \"TI\": 95,\n",
    "    \"etica\": 80,\n",
    "    \"bilogia\": 81,\n",
    "    \"quimica\": 68\n",
    "}\n",
    "\n",
    "promedio = sum(calif.values()) / len(calif)\n",
    "print(f\"Tu promedio es: {promedio}\")"
   ]
  },
  {
   "cell_type": "markdown",
   "metadata": {},
   "source": [
    "**Ejercicio práctico 3:** Crea un conjunto con tus hobbies y agrega uno nuevo."
   ]
  },
  {
   "cell_type": "code",
   "execution_count": 13,
   "metadata": {},
   "outputs": [
    {
     "name": "stdout",
     "output_type": "stream",
     "text": [
      "{'bailar', 'jugar futbol', 'correr', 'cocinar'}\n"
     ]
    }
   ],
   "source": [
    "hobbies = {\"cocinar\", \"jugar futbol\", \"bailar\"}\n",
    "hobbies.add(\"correr\")\n",
    "print(hobbies)"
   ]
  },
  {
   "cell_type": "markdown",
   "metadata": {},
   "source": [
    "**Ejercicio práctico 1:** Dada una cadena que contiene palabras separadas por comas (ej. \"manzana,banana,cereza\"), conviértela en una lista y luego únela nuevamente en una cadena separada por espacios."
   ]
  },
  {
   "cell_type": "code",
   "execution_count": 14,
   "metadata": {},
   "outputs": [
    {
     "name": "stdout",
     "output_type": "stream",
     "text": [
      "La lista creada es: ['manzana', 'banana', 'cereza']\n",
      "Las palabras separadas son: manzana banana cereza\n"
     ]
    }
   ],
   "source": [
    "palabras = \"manzana,banana,cereza\"\n",
    "\n",
    "lista = palabras.split(\",\")\n",
    "print(f\"La lista creada es: {lista}\")\n",
    "\n",
    "salida = \" \".join(lista)\n",
    "print(f\"Las palabras separadas son: {salida}\")"
   ]
  },
  {
   "cell_type": "markdown",
   "metadata": {},
   "source": [
    "**Ejercicio práctico 2:** Convierte el mensaje \"¡Hola Mundo!\" a bytes y luego decodifícalo de nuevo a una cadena."
   ]
  },
  {
   "cell_type": "code",
   "execution_count": 15,
   "metadata": {},
   "outputs": [
    {
     "name": "stdout",
     "output_type": "stream",
     "text": [
      "Mensaje en bytes: b'\\xc2\\xa1Hola Mundo!'\n",
      "Mensaje decodificado: ¡Hola Mundo!\n"
     ]
    }
   ],
   "source": [
    "mensaje = \"¡Hola Mundo!\"\n",
    "\n",
    "men_bytes = mensaje.encode('utf-8')\n",
    "print(\"Mensaje en bytes:\", men_bytes)\n",
    "\n",
    "men_decodificado = men_bytes.decode('utf-8')\n",
    "print(\"Mensaje decodificado:\", men_decodificado)"
   ]
  }
 ],
 "metadata": {
  "kernelspec": {
   "display_name": "Python 3",
   "language": "python",
   "name": "python3"
  },
  "language_info": {
   "codemirror_mode": {
    "name": "ipython",
    "version": 3
   },
   "file_extension": ".py",
   "mimetype": "text/x-python",
   "name": "python",
   "nbconvert_exporter": "python",
   "pygments_lexer": "ipython3",
   "version": "3.12.3"
  }
 },
 "nbformat": 4,
 "nbformat_minor": 2
}
