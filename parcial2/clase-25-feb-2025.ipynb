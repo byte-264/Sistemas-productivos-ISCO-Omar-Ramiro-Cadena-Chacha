{
 "cells": [
  {
   "cell_type": "markdown",
   "metadata": {},
   "source": [
    "## OMAR RAMIRO CADENA CHACHA"
   ]
  },
  {
   "cell_type": "markdown",
   "metadata": {},
   "source": [
    "#### **1. ¿Qué es una excepción?**\n",
    "\n",
    "Una excepción es un evento que ocurre durante la ejecución de un programa y que interrumpe el flujo normal del programa. Las excepciones en Python son objetos que representan errores.\n",
    "\n",
    "#### **2. Bloque `try` y `except`**\n",
    "\n",
    "Si sabes que un bloque de código puede causar un error, puedes colocarlo en un bloque `try` y manejar el error en el bloque `except`.\n",
    "\n",
    "**Ejemplo:**"
   ]
  },
  {
   "cell_type": "code",
   "execution_count": null,
   "metadata": {},
   "outputs": [],
   "source": [
    "try:\n",
    "    numero = int(input(\"Introduce un número: \"))\n",
    "    resultado = 10 / numero\n",
    "    print(resultado)\n",
    "except ZeroDivisionError:\n",
    "    print(\"No puedes dividir por cero.\")\n",
    "except ValueError:\n",
    "    print(\"Debes ingresar un número válido.\")"
   ]
  },
  {
   "cell_type": "markdown",
   "metadata": {},
   "source": [
    "#### Escribe un programa que solicite al usuario 3 números y muestre la divisón entre los 3, manejando posibles errores"
   ]
  },
  {
   "cell_type": "code",
   "execution_count": 1,
   "metadata": {},
   "outputs": [
    {
     "name": "stdout",
     "output_type": "stream",
     "text": [
      "Num1: Debes ingresar un número válido.\n",
      "Num2: Debes ingresar un número válido.\n",
      "Num3: No puedes dividir por cero.\n"
     ]
    }
   ],
   "source": [
    "try:\n",
    "    num1 = float(input(\"Introduce el número 1: \"))\n",
    "except ZeroDivisionError:\n",
    "    print(\"Num1: No puedes dividir por cero.\")\n",
    "except ValueError:\n",
    "    print(\"Num1: Debes ingresar un número válido.\")\n",
    "\n",
    "try:\n",
    "    num2 = float(input(\"Introduce el número 2: \"))\n",
    "    if (num2 == 0):\n",
    "        raise ZeroDivisionError\n",
    "    res1 = num1 / num2\n",
    "except ZeroDivisionError:\n",
    "    print(\"Num2: No puedes dividir por cero.\")\n",
    "except ValueError:\n",
    "    print(\"Num2: Debes ingresar un número válido.\")\n",
    "\n",
    "try:\n",
    "    num3 = float(input(\"Introduce el número 3: \"))\n",
    "    if (num3 == 0):\n",
    "        raise ZeroDivisionError\n",
    "    resFinal = res1/ num3\n",
    "except ZeroDivisionError:\n",
    "    print(\"Num3: No puedes dividir por cero.\")\n",
    "except ValueError:\n",
    "    print(\"Num3: Debes ingresar un número válido.\")"
   ]
  }
 ],
 "metadata": {
  "kernelspec": {
   "display_name": "Python 3",
   "language": "python",
   "name": "python3"
  },
  "language_info": {
   "codemirror_mode": {
    "name": "ipython",
    "version": 3
   },
   "file_extension": ".py",
   "mimetype": "text/x-python",
   "name": "python",
   "nbconvert_exporter": "python",
   "pygments_lexer": "ipython3",
   "version": "3.12.3"
  }
 },
 "nbformat": 4,
 "nbformat_minor": 2
}
